{
 "cells": [
  {
   "cell_type": "markdown",
   "metadata": {},
   "source": [
    "[![image](https://colab.research.google.com/assets/colab-badge.svg)](https://colab.research.google.com/github/olilamm/thinkgreen/blob/main/docs/examples/image.ipynb) "
   ]
  },
  {
   "cell_type": "code",
   "execution_count": 1,
   "metadata": {},
   "outputs": [],
   "source": [
    "import thinkgreen"
   ]
  },
  {
   "cell_type": "code",
   "execution_count": 9,
   "metadata": {},
   "outputs": [
    {
     "ename": "AttributeError",
     "evalue": "'Map' object has no attribute 'add_image'",
     "output_type": "error",
     "traceback": [
      "\u001b[1;31m---------------------------------------------------------------------------\u001b[0m",
      "\u001b[1;31mAttributeError\u001b[0m                            Traceback (most recent call last)",
      "Cell \u001b[1;32mIn[9], line 3\u001b[0m\n\u001b[0;32m      1\u001b[0m m \u001b[38;5;241m=\u001b[39m thinkgreen\u001b[38;5;241m.\u001b[39mMap(center\u001b[38;5;241m=\u001b[39m [\u001b[38;5;241m35.9617\u001b[39m, \u001b[38;5;241m-\u001b[39m\u001b[38;5;241m83.9234\u001b[39m], zoom\u001b[38;5;241m=\u001b[39m \u001b[38;5;241m15\u001b[39m)\n\u001b[1;32m----> 3\u001b[0m \u001b[43mm\u001b[49m\u001b[38;5;241;43m.\u001b[39;49m\u001b[43madd_image\u001b[49m(image_path\u001b[38;5;241m=\u001b[39m\u001b[38;5;124m\"\u001b[39m\u001b[38;5;124mC:\u001b[39m\u001b[38;5;130;01m\\\\\u001b[39;00m\u001b[38;5;124mUsers\u001b[39m\u001b[38;5;130;01m\\\\\u001b[39;00m\u001b[38;5;124molamm\u001b[39m\u001b[38;5;130;01m\\\\\u001b[39;00m\u001b[38;5;124msunsphere.png\u001b[39m\u001b[38;5;124m\"\u001b[39m, coordinates\u001b[38;5;241m=\u001b[39m[\u001b[38;5;241m35.9617\u001b[39m, \u001b[38;5;241m-\u001b[39m\u001b[38;5;241m83.9234\u001b[39m], size\u001b[38;5;241m=\u001b[39m\u001b[38;5;28;01mNone\u001b[39;00m)\n\u001b[0;32m      5\u001b[0m m \n",
      "\u001b[1;31mAttributeError\u001b[0m: 'Map' object has no attribute 'add_image'"
     ]
    }
   ],
   "source": [
    "m = thinkgreen.Map(center= [35.9617, -83.9234], zoom= 15)\n",
    "\n",
    "m.add_image(image_path=\"C:\\\\Users\\\\olamm\\\\sunsphere.png\", coordinates=[35.9617, -83.9234], size=None)\n",
    "\n",
    "m "
   ]
  }
 ],
 "metadata": {
  "kernelspec": {
   "display_name": "Python 3.10.9 ('geos')",
   "language": "python",
   "name": "python3"
  },
  "language_info": {
   "codemirror_mode": {
    "name": "ipython",
    "version": 3
   },
   "file_extension": ".py",
   "mimetype": "text/x-python",
   "name": "python",
   "nbconvert_exporter": "python",
   "pygments_lexer": "ipython3",
   "version": "3.10.9"
  },
  "orig_nbformat": 4,
  "vscode": {
   "interpreter": {
    "hash": "baab0112a033127c1451cff802e8d2e02fc1a721149390d74ff87d0f0d2b88fa"
   }
  }
 },
 "nbformat": 4,
 "nbformat_minor": 2
}
