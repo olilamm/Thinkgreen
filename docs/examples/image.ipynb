{
 "cells": [
  {
   "cell_type": "markdown",
   "metadata": {},
   "source": [
    "[![image](https://colab.research.google.com/assets/colab-badge.svg)](https://colab.research.google.com/github/olilamm/thinkgreen/blob/main/docs/examples/image.ipynb) "
   ]
  },
  {
   "cell_type": "code",
   "execution_count": 1,
   "metadata": {},
   "outputs": [],
   "source": [
    "import thinkgreen"
   ]
  },
  {
   "cell_type": "code",
   "execution_count": 2,
   "metadata": {},
   "outputs": [
    {
     "data": {
      "application/vnd.jupyter.widget-view+json": {
       "model_id": "41d5dbfa0a6549a7a667d9b8684847f5",
       "version_major": 2,
       "version_minor": 0
      },
      "text/plain": [
       "Map(center=[36, -84], controls=(ZoomControl(options=['position', 'zoom_in_text', 'zoom_in_title', 'zoom_out_te…"
      ]
     },
     "execution_count": 2,
     "metadata": {},
     "output_type": "execute_result"
    }
   ],
   "source": [
    "m = thinkgreen.Map(center = [36, -84], zoom = 10)\n",
    "\n",
    "m"
   ]
  },
  {
   "cell_type": "code",
   "execution_count": 4,
   "metadata": {},
   "outputs": [
    {
     "data": {
      "application/vnd.jupyter.widget-view+json": {
       "model_id": "1dd8cab617aa465d941f52c23f176132",
       "version_major": 2,
       "version_minor": 0
      },
      "text/plain": [
       "Map(center=[36, -84], controls=(ZoomControl(options=['position', 'zoom_in_text', 'zoom_in_title', 'zoom_out_te…"
      ]
     },
     "execution_count": 4,
     "metadata": {},
     "output_type": "execute_result"
    }
   ],
   "source": [
    "from thinkgreen import Map\n",
    "import ipywidgets as w\n",
    "from ipyleaflet import WidgetControl\n",
    "\n",
    "m = Map(center = [36, -84], zoom = 10)\n",
    "path = 'C:\\\\Users\\\\olamm\\\\sunsphere.png'\n",
    "m.add_image(path)\n",
    "\n",
    "m"
   ]
  }
 ],
 "metadata": {
  "kernelspec": {
   "display_name": "Python 3.10.9 ('geos')",
   "language": "python",
   "name": "python3"
  },
  "language_info": {
   "codemirror_mode": {
    "name": "ipython",
    "version": 3
   },
   "file_extension": ".py",
   "mimetype": "text/x-python",
   "name": "python",
   "nbconvert_exporter": "python",
   "pygments_lexer": "ipython3",
   "version": "3.10.9"
  },
  "orig_nbformat": 4,
  "vscode": {
   "interpreter": {
    "hash": "baab0112a033127c1451cff802e8d2e02fc1a721149390d74ff87d0f0d2b88fa"
   }
  }
 },
 "nbformat": 4,
 "nbformat_minor": 2
}
