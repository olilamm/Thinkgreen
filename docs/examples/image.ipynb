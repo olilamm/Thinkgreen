{
 "cells": [
  {
   "cell_type": "markdown",
   "metadata": {},
   "source": [
    "[![image](https://colab.research.google.com/assets/colab-badge.svg)](https://colab.research.google.com/github/olilamm/thinkgreen/blob/main/docs/examples/image.ipynb) "
   ]
  },
  {
   "cell_type": "code",
   "execution_count": 4,
   "metadata": {},
   "outputs": [],
   "source": [
    "import thinkgreen"
   ]
  },
  {
   "cell_type": "code",
   "execution_count": 8,
   "metadata": {},
   "outputs": [
    {
     "data": {
      "application/vnd.jupyter.widget-view+json": {
       "model_id": "a1b6af2af005441c8cca342bbb55564d",
       "version_major": 2,
       "version_minor": 0
      },
      "text/plain": [
       "Map(center=[36, -84], controls=(ZoomControl(options=['position', 'zoom_in_text', 'zoom_in_title', 'zoom_out_te…"
      ]
     },
     "execution_count": 8,
     "metadata": {},
     "output_type": "execute_result"
    }
   ],
   "source": [
    "m = thinkgreen.Map(center = [36, -84], zoom = 10)\n",
    "\n",
    "m"
   ]
  },
  {
   "cell_type": "code",
   "execution_count": 5,
   "metadata": {},
   "outputs": [
    {
     "ename": "NameError",
     "evalue": "name 'ouptut_widget' is not defined",
     "output_type": "error",
     "traceback": [
      "\u001b[1;31m---------------------------------------------------------------------------\u001b[0m",
      "\u001b[1;31mNameError\u001b[0m                                 Traceback (most recent call last)",
      "Cell \u001b[1;32mIn[5], line 7\u001b[0m\n\u001b[0;32m      5\u001b[0m m \u001b[38;5;241m=\u001b[39m Map()\n\u001b[0;32m      6\u001b[0m path \u001b[38;5;241m=\u001b[39m \u001b[38;5;124m'\u001b[39m\u001b[38;5;124mC:\u001b[39m\u001b[38;5;130;01m\\\\\u001b[39;00m\u001b[38;5;124mUsers\u001b[39m\u001b[38;5;130;01m\\\\\u001b[39;00m\u001b[38;5;124molamm\u001b[39m\u001b[38;5;130;01m\\\\\u001b[39;00m\u001b[38;5;124msunsphere.png\u001b[39m\u001b[38;5;124m'\u001b[39m\n\u001b[1;32m----> 7\u001b[0m \u001b[43mm\u001b[49m\u001b[38;5;241;43m.\u001b[39;49m\u001b[43madd_image\u001b[49m\u001b[43m(\u001b[49m\u001b[43mpath\u001b[49m\u001b[43m)\u001b[49m\n\u001b[0;32m      9\u001b[0m m\n",
      "File \u001b[1;32mc:\\users\\olamm\\thinkgreen\\thinkgreen\\thinkgreen.py:239\u001b[0m, in \u001b[0;36mMap.add_image\u001b[1;34m(self, path, w, h)\u001b[0m\n\u001b[0;32m    231\u001b[0m i \u001b[39m=\u001b[39m widgets\u001b[39m.\u001b[39mImage(\n\u001b[0;32m    232\u001b[0m     value\u001b[39m=\u001b[39mimage,\n\u001b[0;32m    233\u001b[0m     \u001b[39mformat\u001b[39m\u001b[39m=\u001b[39m\u001b[39m'\u001b[39m\u001b[39mpng\u001b[39m\u001b[39m'\u001b[39m,\n\u001b[0;32m    234\u001b[0m     width\u001b[39m=\u001b[39mw,\n\u001b[0;32m    235\u001b[0m     height\u001b[39m=\u001b[39mh,\n\u001b[0;32m    236\u001b[0m )\n\u001b[0;32m    238\u001b[0m output_widget \u001b[39m=\u001b[39m widgets\u001b[39m.\u001b[39mOutput()\n\u001b[1;32m--> 239\u001b[0m output_control \u001b[39m=\u001b[39m ipyleaflet\u001b[39m.\u001b[39mWidgetControl(widget\u001b[39m=\u001b[39mouptut_widget, position\u001b[39m=\u001b[39m\u001b[39m'\u001b[39m\u001b[39mbottomright\u001b[39m\u001b[39m'\u001b[39m)\n\u001b[0;32m    240\u001b[0m \u001b[39mself\u001b[39m\u001b[39m.\u001b[39madd_control(output_control)\n\u001b[0;32m    241\u001b[0m \u001b[39mwith\u001b[39;00m output_widget:\n",
      "\u001b[1;31mNameError\u001b[0m: name 'ouptut_widget' is not defined"
     ]
    }
   ],
   "source": [
    "from thinkgreen import Map\n",
    "import ipywidgets as w\n",
    "from ipyleaflet import WidgetControl\n",
    "\n",
    "m = Map()\n",
    "path = 'C:\\\\Users\\\\olamm\\\\sunsphere.png'\n",
    "m.add_image(path)\n",
    "\n",
    "m"
   ]
  }
 ],
 "metadata": {
  "kernelspec": {
   "display_name": "Python 3.10.9 ('geos')",
   "language": "python",
   "name": "python3"
  },
  "language_info": {
   "codemirror_mode": {
    "name": "ipython",
    "version": 3
   },
   "file_extension": ".py",
   "mimetype": "text/x-python",
   "name": "python",
   "nbconvert_exporter": "python",
   "pygments_lexer": "ipython3",
   "version": "3.10.9"
  },
  "orig_nbformat": 4,
  "vscode": {
   "interpreter": {
    "hash": "baab0112a033127c1451cff802e8d2e02fc1a721149390d74ff87d0f0d2b88fa"
   }
  }
 },
 "nbformat": 4,
 "nbformat_minor": 2
}
