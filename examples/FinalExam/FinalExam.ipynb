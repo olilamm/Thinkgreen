{
 "cells": [
  {
   "cell_type": "code",
   "execution_count": 1,
   "metadata": {},
   "outputs": [],
   "source": [
    "import thinkgreen"
   ]
  },
  {
   "cell_type": "code",
   "execution_count": 2,
   "metadata": {},
   "outputs": [
    {
     "data": {
      "application/vnd.jupyter.widget-view+json": {
       "model_id": "210cf231f513405e8ecb79181ee173dc",
       "version_major": 2,
       "version_minor": 0
      },
      "text/plain": [
       "Map(center=[20, 0], controls=(ZoomControl(options=['position', 'zoom_in_text', 'zoom_in_title', 'zoom_out_text…"
      ]
     },
     "execution_count": 2,
     "metadata": {},
     "output_type": "execute_result"
    }
   ],
   "source": [
    "m = thinkgreen.Map()\n",
    "\n",
    "m"
   ]
  },
  {
   "cell_type": "markdown",
   "metadata": {},
   "source": [
    "Question 1"
   ]
  },
  {
   "cell_type": "code",
   "execution_count": 3,
   "metadata": {},
   "outputs": [],
   "source": [
    "m.add_csv('sample_data/world_cities.csv','output.shp', 'shapefile')\n"
   ]
  },
  {
   "cell_type": "markdown",
   "metadata": {},
   "source": [
    "Question 2"
   ]
  },
  {
   "cell_type": "code",
   "execution_count": 4,
   "metadata": {},
   "outputs": [],
   "source": [
    "\n",
    "m.add_points_from_csv('sample_data/world_cities.csv', x='longitude', y='latitude', label='name', layer_name='My Cluster')\n",
    "\n"
   ]
  },
  {
   "cell_type": "markdown",
   "metadata": {},
   "source": [
    "Question 3"
   ]
  },
  {
   "cell_type": "code",
   "execution_count": 5,
   "metadata": {},
   "outputs": [
    {
     "ename": "AttributeError",
     "evalue": "'Map' object has no attribute 'create_marker_cluster_tool'",
     "output_type": "error",
     "traceback": [
      "\u001b[1;31m---------------------------------------------------------------------------\u001b[0m",
      "\u001b[1;31mAttributeError\u001b[0m                            Traceback (most recent call last)",
      "Cell \u001b[1;32mIn[5], line 1\u001b[0m\n\u001b[1;32m----> 1\u001b[0m \u001b[43mm\u001b[49m\u001b[38;5;241;43m.\u001b[39;49m\u001b[43madd_button\u001b[49m\u001b[43m(\u001b[49m\u001b[43m)\u001b[49m\n",
      "File \u001b[1;32mc:\\users\\olamm\\thinkgreen\\thinkgreen\\thinkgreen.py:536\u001b[0m, in \u001b[0;36mMap.add_button\u001b[1;34m(self, position, **kwargs)\u001b[0m\n\u001b[0;32m    527\u001b[0m button \u001b[39m=\u001b[39m widgets\u001b[39m.\u001b[39mButton(\n\u001b[0;32m    528\u001b[0m     description\u001b[39m=\u001b[39m\u001b[39m'\u001b[39m\u001b[39mCreate Marker Cluster\u001b[39m\u001b[39m'\u001b[39m,\n\u001b[0;32m    529\u001b[0m     disabled\u001b[39m=\u001b[39m\u001b[39mFalse\u001b[39;00m,\n\u001b[1;32m   (...)\u001b[0m\n\u001b[0;32m    532\u001b[0m     icon\u001b[39m=\u001b[39m\u001b[39m'\u001b[39m\u001b[39mcheck\u001b[39m\u001b[39m'\u001b[39m \u001b[39m# (FontAwesome names without the `fa-` prefix)\u001b[39;00m\n\u001b[0;32m    533\u001b[0m )\n\u001b[0;32m    535\u001b[0m marker_ctrl \u001b[39m=\u001b[39m ipyleaflet\u001b[39m.\u001b[39mWidgetControl(widget\u001b[39m=\u001b[39mbutton, position\u001b[39m=\u001b[39m \u001b[39m\"\u001b[39m\u001b[39mtopleft\u001b[39m\u001b[39m\"\u001b[39m)\n\u001b[1;32m--> 536\u001b[0m \u001b[39mself\u001b[39;49m\u001b[39m.\u001b[39;49mcreate_marker_cluster_tool(marker_ctrl)\n\u001b[0;32m    538\u001b[0m \u001b[39mdef\u001b[39;00m \u001b[39mcreate_marker_cluster\u001b[39m(\u001b[39mself\u001b[39m):\n\u001b[0;32m    539\u001b[0m     filepath \u001b[39m=\u001b[39m \u001b[39mself\u001b[39m\u001b[39m.\u001b[39mfile_chooser\u001b[39m.\u001b[39mselected_path\n",
      "\u001b[1;31mAttributeError\u001b[0m: 'Map' object has no attribute 'create_marker_cluster_tool'"
     ]
    }
   ],
   "source": [
    "m.add_button()"
   ]
  }
 ],
 "metadata": {
  "kernelspec": {
   "display_name": "Python 3.10.9 ('geos')",
   "language": "python",
   "name": "python3"
  },
  "language_info": {
   "codemirror_mode": {
    "name": "ipython",
    "version": 3
   },
   "file_extension": ".py",
   "mimetype": "text/x-python",
   "name": "python",
   "nbconvert_exporter": "python",
   "pygments_lexer": "ipython3",
   "version": "3.10.9"
  },
  "orig_nbformat": 4,
  "vscode": {
   "interpreter": {
    "hash": "baab0112a033127c1451cff802e8d2e02fc1a721149390d74ff87d0f0d2b88fa"
   }
  }
 },
 "nbformat": 4,
 "nbformat_minor": 2
}
